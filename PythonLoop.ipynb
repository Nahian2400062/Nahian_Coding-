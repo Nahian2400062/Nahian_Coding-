{
 "cells": [
  {
   "cell_type": "code",
   "execution_count": 2,
   "id": "ab0a7ad7",
   "metadata": {},
   "outputs": [],
   "source": [
    "# Using \"for\" loops"
   ]
  },
  {
   "cell_type": "code",
   "execution_count": 3,
   "id": "a8f18351",
   "metadata": {},
   "outputs": [],
   "source": [
    "import pandas as pd\n",
    "from datetime import datetime"
   ]
  },
  {
   "cell_type": "code",
   "execution_count": 4,
   "id": "61c3e28f",
   "metadata": {},
   "outputs": [],
   "source": [
    "# Load data into a DataFrame (replace 'data.csv' with the path to your data file)\n",
    "df = pd.read_csv('USA_import_Pythonclean.csv')\n",
    "\n",
    "# Alternatively, if the data is directly available in your notebook, you can create a DataFrame like this:\n",
    "data = {\n",
    "    'Date': ['1/1/1989', '2/1/1989', '3/1/1989', '4/1/1989', '5/1/1989', '12/1/2018', '1/1/2019'],\n",
    "    'IMP': [37513.2, 38561.7, 39724.7, 38664.7, 40909.6, 215790.541, 209471.5167]\n",
    "}\n",
    "\n",
    "df = pd.DataFrame(data)"
   ]
  },
  {
   "cell_type": "code",
   "execution_count": 5,
   "id": "a579a852",
   "metadata": {},
   "outputs": [],
   "source": [
    "df['Date'] = pd.to_datetime(df['Date'], format='%m/%d/%Y')"
   ]
  },
  {
   "cell_type": "code",
   "execution_count": 6,
   "id": "141ef95f",
   "metadata": {},
   "outputs": [
    {
     "name": "stdout",
     "output_type": "stream",
     "text": [
      "Date: 1989-01-01 00:00:00, IMP: 37513.2\n",
      "Date: 1989-02-01 00:00:00, IMP: 38561.7\n",
      "Date: 1989-03-01 00:00:00, IMP: 39724.7\n",
      "Date: 1989-04-01 00:00:00, IMP: 38664.7\n",
      "Date: 1989-05-01 00:00:00, IMP: 40909.6\n",
      "Date: 2018-12-01 00:00:00, IMP: 215790.541\n",
      "Date: 2019-01-01 00:00:00, IMP: 209471.5167\n"
     ]
    }
   ],
   "source": [
    "for index, row in df.iterrows():\n",
    "    # Access the date and IMP values\n",
    "    date = row['Date']\n",
    "    imp = row['IMP']\n",
    "    \n",
    "    # You can print or process the data here\n",
    "    print(f\"Date: {date}, IMP: {imp}\")"
   ]
  },
  {
   "cell_type": "code",
   "execution_count": 7,
   "id": "c4897575",
   "metadata": {},
   "outputs": [
    {
     "name": "stdout",
     "output_type": "stream",
     "text": [
      "Date: 1989-01-01 00:00:00, IMP: 37513.2, Cumulative IMP: 37513.2\n",
      "Date: 1989-02-01 00:00:00, IMP: 38561.7, Cumulative IMP: 76074.9\n",
      "Date: 1989-03-01 00:00:00, IMP: 39724.7, Cumulative IMP: 115799.59999999999\n",
      "Date: 1989-04-01 00:00:00, IMP: 38664.7, Cumulative IMP: 154464.3\n",
      "Date: 1989-05-01 00:00:00, IMP: 40909.6, Cumulative IMP: 195373.9\n",
      "Date: 2018-12-01 00:00:00, IMP: 215790.541, Cumulative IMP: 411164.441\n",
      "Date: 2019-01-01 00:00:00, IMP: 209471.5167, Cumulative IMP: 620635.9577\n"
     ]
    }
   ],
   "source": [
    "cumulative_imp = 0\n",
    "for index, row in df.iterrows():\n",
    "    # Access the IMP value\n",
    "    imp = row['IMP']\n",
    "    \n",
    "    # Add the IMP value to the cumulative total\n",
    "    cumulative_imp += imp\n",
    "    \n",
    "    # Print out the cumulative sum for each date\n",
    "    print(f\"Date: {row['Date']}, IMP: {imp}, Cumulative IMP: {cumulative_imp}\")"
   ]
  },
  {
   "cell_type": "code",
   "execution_count": 8,
   "id": "cb68b810",
   "metadata": {},
   "outputs": [
    {
     "name": "stdout",
     "output_type": "stream",
     "text": [
      "Date: 1989-05-01 00:00:00, IMP: 40909.6 exceeds threshold.\n",
      "Date: 2018-12-01 00:00:00, IMP: 215790.541 exceeds threshold.\n",
      "Date: 2019-01-01 00:00:00, IMP: 209471.5167 exceeds threshold.\n"
     ]
    }
   ],
   "source": [
    "threshold = 40000\n",
    "for index, row in df.iterrows():\n",
    "    if row['IMP'] > threshold:\n",
    "        print(f\"Date: {row['Date']}, IMP: {row['IMP']} exceeds threshold.\")"
   ]
  },
  {
   "cell_type": "code",
   "execution_count": null,
   "id": "63ff333b",
   "metadata": {},
   "outputs": [],
   "source": []
  }
 ],
 "metadata": {
  "kernelspec": {
   "display_name": "Python 3 (ipykernel)",
   "language": "python",
   "name": "python3"
  },
  "language_info": {
   "codemirror_mode": {
    "name": "ipython",
    "version": 3
   },
   "file_extension": ".py",
   "mimetype": "text/x-python",
   "name": "python",
   "nbconvert_exporter": "python",
   "pygments_lexer": "ipython3",
   "version": "3.9.12"
  }
 },
 "nbformat": 4,
 "nbformat_minor": 5
}
